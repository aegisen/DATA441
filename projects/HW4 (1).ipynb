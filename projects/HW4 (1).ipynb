{
  "nbformat": 4,
  "nbformat_minor": 0,
  "metadata": {
    "colab": {
      "provenance": [],
      "gpuType": "T4"
    },
    "kernelspec": {
      "name": "python3",
      "display_name": "Python 3"
    },
    "language_info": {
      "name": "python"
    },
    "accelerator": "GPU"
  },
  "cells": [
    {
      "cell_type": "markdown",
      "source": [
        "# SETUP"
      ],
      "metadata": {
        "id": "IHlGLQSWxM1T"
      }
    },
    {
      "cell_type": "code",
      "execution_count": 1,
      "metadata": {
        "id": "m82tido-w2i5"
      },
      "outputs": [],
      "source": [
        "import numpy as np\n",
        "import torch\n",
        "import torch.nn as nn\n",
        "from torchvision import datasets\n",
        "from torchvision import transforms\n",
        "from torch.utils.data.sampler import SubsetRandomSampler"
      ]
    },
    {
      "cell_type": "code",
      "source": [
        "#Hyperparams\n",
        "num_classes = 10\n",
        "num_epochs = 5\n",
        "batch_size = 72\n",
        "learning_rate = 0.001"
      ],
      "metadata": {
        "id": "wfZHX6_LYcTJ"
      },
      "execution_count": 2,
      "outputs": []
    },
    {
      "cell_type": "code",
      "source": [
        "# Get gpu, mps or cpu device for training.\n",
        "device = (\n",
        "    \"cuda\"\n",
        "    if torch.cuda.is_available()\n",
        "    else \"mps\"\n",
        "    if torch.backends.mps.is_available()\n",
        "    else \"cpu\"\n",
        ")\n",
        "print(f\"Using {device} device\")\n"
      ],
      "metadata": {
        "colab": {
          "base_uri": "https://localhost:8080/"
        },
        "id": "ms6HxzsDw459",
        "outputId": "c38e08e5-c60d-4674-fac0-a0a8d6916522"
      },
      "execution_count": 3,
      "outputs": [
        {
          "output_type": "stream",
          "name": "stdout",
          "text": [
            "Using cuda device\n"
          ]
        }
      ]
    },
    {
      "cell_type": "code",
      "source": [
        "def get_train_valid_loader(data_dir,\n",
        "                           batch_size,\n",
        "                           augment,\n",
        "                           random_seed,\n",
        "                           valid_size=0.1,\n",
        "                           shuffle=True):\n",
        "    normalize = transforms.Normalize(\n",
        "        mean=[0.4914, 0.4822, 0.4465],\n",
        "        std=[0.2023, 0.1994, 0.2010],\n",
        "    )\n",
        "\n",
        "    # define transforms\n",
        "    valid_transform = transforms.Compose([\n",
        "            transforms.Resize((128,128)),\n",
        "            transforms.ToTensor(),\n",
        "            normalize,\n",
        "    ])\n",
        "    if augment:\n",
        "        train_transform = transforms.Compose([\n",
        "            transforms.Resize((128,128)),\n",
        "            transforms.RandomCrop(120, padding=4),\n",
        "            transforms.RandomHorizontalFlip(),\n",
        "            transforms.ToTensor(),\n",
        "            normalize,\n",
        "        ])\n",
        "    else:\n",
        "        train_transform = transforms.Compose([\n",
        "            transforms.Resize((227,227)),\n",
        "            transforms.ToTensor(),\n",
        "            normalize,\n",
        "        ])\n",
        "\n",
        "    # load the dataset\n",
        "    train_dataset = datasets.CIFAR10(\n",
        "        root=data_dir, train=True,\n",
        "        download=True, transform=train_transform,\n",
        "    )\n",
        "\n",
        "    valid_dataset = datasets.CIFAR10(\n",
        "        root=data_dir, train=True,\n",
        "        download=True, transform=valid_transform,\n",
        "    )\n",
        "\n",
        "    num_train = len(train_dataset)\n",
        "    indices = list(range(num_train))\n",
        "    split = int(np.floor(valid_size * num_train))\n",
        "\n",
        "    if shuffle:\n",
        "        np.random.seed(random_seed)\n",
        "        np.random.shuffle(indices)\n",
        "\n",
        "    train_idx, valid_idx = indices[split:], indices[:split]\n",
        "    train_sampler = SubsetRandomSampler(train_idx)\n",
        "    valid_sampler = SubsetRandomSampler(valid_idx)\n",
        "\n",
        "    train_loader = torch.utils.data.DataLoader(\n",
        "        train_dataset, batch_size=batch_size, sampler=train_sampler)\n",
        "\n",
        "    valid_loader = torch.utils.data.DataLoader(\n",
        "        valid_dataset, batch_size=batch_size, sampler=valid_sampler)\n",
        "\n",
        "    return (train_loader, valid_loader)\n",
        "\n",
        "\n",
        "def get_test_loader(data_dir,\n",
        "                    batch_size,\n",
        "                    shuffle=True):\n",
        "    normalize = transforms.Normalize(\n",
        "        mean=[0.485, 0.456, 0.406],\n",
        "        std=[0.229, 0.224, 0.225],\n",
        "    )\n",
        "\n",
        "    # define transform\n",
        "    transform = transforms.Compose([\n",
        "        transforms.Resize((128,128)),\n",
        "        transforms.ToTensor(),\n",
        "        normalize,\n",
        "    ])\n",
        "\n",
        "    dataset = datasets.CIFAR10(\n",
        "        root=data_dir, train=False,\n",
        "        download=True, transform=transform,\n",
        "    )\n",
        "\n",
        "    data_loader = torch.utils.data.DataLoader(\n",
        "        dataset, batch_size=batch_size, shuffle=shuffle\n",
        "    )\n",
        "\n",
        "    return data_loader\n",
        "\n",
        "\n",
        "# dataset\n",
        "train_loader, valid_loader = get_train_valid_loader(data_dir = './data',                                      batch_size = 64,\n",
        "                       augment = True,random_seed = 123)\n",
        "\n",
        "test_loader = get_test_loader(data_dir = './data',\n",
        "                              batch_size = 72)\n"
      ],
      "metadata": {
        "colab": {
          "base_uri": "https://localhost:8080/"
        },
        "id": "4WBNB6SCw-6r",
        "outputId": "0bf8cf8f-6cad-43d3-b594-d757c9a4badc"
      },
      "execution_count": 4,
      "outputs": [
        {
          "output_type": "stream",
          "name": "stdout",
          "text": [
            "Downloading https://www.cs.toronto.edu/~kriz/cifar-10-python.tar.gz to ./data/cifar-10-python.tar.gz\n"
          ]
        },
        {
          "output_type": "stream",
          "name": "stderr",
          "text": [
            "100%|██████████| 170498071/170498071 [00:01<00:00, 98123110.84it/s] \n"
          ]
        },
        {
          "output_type": "stream",
          "name": "stdout",
          "text": [
            "Extracting ./data/cifar-10-python.tar.gz to ./data\n",
            "Files already downloaded and verified\n",
            "Files already downloaded and verified\n"
          ]
        }
      ]
    },
    {
      "cell_type": "markdown",
      "source": [
        "# Creating Model"
      ],
      "metadata": {
        "id": "qTEKqAyJxS-F"
      }
    },
    {
      "cell_type": "code",
      "source": [
        "from torch.nn import Sequential, Linear, MSELoss"
      ],
      "metadata": {
        "id": "2jGm3u0E1YGz"
      },
      "execution_count": 5,
      "outputs": []
    },
    {
      "cell_type": "code",
      "source": [
        "class Alex(nn.Module):\n",
        "    def __init__(self, num_classes=10):\n",
        "        super(Alex, self).__init__()\n",
        "        self.layer1 = nn.Sequential(\n",
        "            nn.Conv2d(3, 96, kernel_size=11, stride=4, padding=0),\n",
        "            nn.BatchNorm2d(96),\n",
        "            nn.ReLU(),\n",
        "            nn.MaxPool2d(kernel_size = 3, stride = 2))\n",
        "        self.layer2 = nn.Sequential(\n",
        "            nn.Conv2d(96, 256, kernel_size=5, stride=1, padding=2),\n",
        "            nn.BatchNorm2d(256),\n",
        "            nn.ReLU(),\n",
        "            nn.MaxPool2d(kernel_size = 3, stride = 2))\n",
        "        self.layer3 = nn.Sequential(\n",
        "            nn.Conv2d(256, 384, kernel_size=3, stride=1, padding=1),\n",
        "            nn.BatchNorm2d(384),\n",
        "            nn.ReLU())\n",
        "        self.layer4 = nn.Sequential(\n",
        "            nn.Conv2d(384, 384, kernel_size=3, stride=1, padding=1),\n",
        "            nn.BatchNorm2d(384),\n",
        "            nn.ReLU())\n",
        "        self.layer5 = nn.Sequential(\n",
        "            nn.Conv2d(384, 256, kernel_size=3, stride=1, padding=1),\n",
        "            nn.BatchNorm2d(256),\n",
        "            nn.ReLU(),\n",
        "            nn.MaxPool2d(kernel_size = 3, stride = 2))\n",
        "        self.fc = nn.Sequential(\n",
        "            nn.Dropout(0.5),\n",
        "            nn.Linear(1024, 4096),\n",
        "            nn.ReLU())\n",
        "        self.fc1 = nn.Sequential(\n",
        "            nn.Dropout(0.5),\n",
        "            nn.Linear(4096, 4096),\n",
        "            nn.ReLU())\n",
        "        self.fc2= nn.Sequential(\n",
        "            nn.Linear(4096, num_classes))\n",
        "\n",
        "    def forward(self, x):\n",
        "        out = self.layer1(x)\n",
        "        out = self.layer2(out)\n",
        "        out = self.layer3(out)\n",
        "        out = self.layer4(out)\n",
        "        out = self.layer5(out)\n",
        "        out = out.reshape(out.size(0), -1)\n",
        "        out = self.fc(out)\n",
        "        out = self.fc1(out)\n",
        "        out = self.fc2(out)\n",
        "        return out"
      ],
      "metadata": {
        "id": "ZGrcdjB368Mt"
      },
      "execution_count": 6,
      "outputs": []
    },
    {
      "cell_type": "code",
      "source": [
        "def train(num_classes, num_epochs, batch_size, lr, train_loader, valid_loader):\n",
        "  model = Alex().to(device)\n",
        "  criterion = nn.CrossEntropyLoss()\n",
        "  optimizer = torch.optim.Adam(model.parameters(), lr = lr)# train model\n",
        "\n",
        "  total_step = len(train_loader)\n",
        "\n",
        "  for epoch in range(num_epochs):\n",
        "      for i, (images, labels) in enumerate(train_loader):\n",
        "          # Move tensors to the configured device\n",
        "          images = images.to(device)\n",
        "          labels = labels.to(device)\n",
        "\n",
        "          # Forward pass\n",
        "          outputs = model(images)\n",
        "          loss = criterion(outputs, labels)\n",
        "\n",
        "          # Backward and optimize\n",
        "          optimizer.zero_grad()\n",
        "          loss.backward()\n",
        "          optimizer.step()\n",
        "\n",
        "      #print(epoch)\n",
        "      print ('Epoch [{}/{}], Step [{}/{}], Loss: {:.4f}'\n",
        "                    .format(epoch+1, num_epochs, i+1, total_step, loss.item()))\n",
        "\n",
        "  # Validation\n",
        "  with torch.no_grad():\n",
        "      correct = 0\n",
        "      total = 0\n",
        "      for images, labels in valid_loader:\n",
        "          images = images.to(device)\n",
        "          labels = labels.to(device)\n",
        "          outputs = model(images)\n",
        "          _, predicted = torch.max(outputs.data, 1)\n",
        "          total += labels.size(0)\n",
        "          correct += (predicted == labels).sum().item()\n",
        "          del images, labels, outputs\n",
        "\n",
        "      print('Accuracy of the network on the {} validation images: {} %'.format(5000, 100 * correct / total))\n",
        "      return 100 * correct / total\n"
      ],
      "metadata": {
        "id": "D3sMUBMgSQhK"
      },
      "execution_count": 7,
      "outputs": []
    },
    {
      "cell_type": "code",
      "source": [],
      "metadata": {
        "id": "Mc8PYpP3Boub"
      },
      "execution_count": 7,
      "outputs": []
    },
    {
      "cell_type": "markdown",
      "source": [
        "# PSO"
      ],
      "metadata": {
        "id": "1WlPOANS-xiO"
      }
    },
    {
      "cell_type": "code",
      "source": [
        "def objective_function(params, test):\n",
        "    lr, batch_size = params\n",
        "    num_epochs = 5\n",
        "    return -train(10, num_epochs, batch_size, lr, train_loader, test) # Negative because PSO minimizes"
      ],
      "metadata": {
        "id": "JtzPfbz6FwgN"
      },
      "execution_count": 8,
      "outputs": []
    },
    {
      "cell_type": "code",
      "source": [
        "def particle_swarm_optimization(num_dimensions, num_particles, max_iter, test, i_min = -10, i_max = 10, w = 0.5, c1 = 0.25, c2 = 0.75, bounds=None):\n",
        "    particles = [{'position': np.random.uniform(0, 1, size=num_dimensions),\n",
        "                  'velocity': np.random.uniform(-1, 1, size=num_dimensions),\n",
        "                  'pbest': float('inf'),\n",
        "                  'pbest_position': None} for _ in range(num_particles)]\n",
        "\n",
        "    # init global best\n",
        "    gbest_value = float('inf')\n",
        "    gbest_position = None\n",
        "\n",
        "    for _ in range(max_iter):\n",
        "        for particle in particles:\n",
        "            position = particle['position']\n",
        "            velocity = particle['velocity']\n",
        "\n",
        "            # Calculate the current value\n",
        "            current_value = objective_function(position, test)\n",
        "\n",
        "            # Update personal best\n",
        "            if current_value < particle['pbest']:\n",
        "                particle['pbest'] = current_value\n",
        "                particle['pbest_position'] = position.copy()\n",
        "\n",
        "            # Update global best\n",
        "            if current_value < gbest_value:\n",
        "                gbest_value = current_value\n",
        "                gbest_position = position.copy()\n",
        "\n",
        "            # Update particle's velocity and position\n",
        "            for i in range(num_dimensions):\n",
        "                r1, r2 = np.random.uniform(), np.random.uniform()\n",
        "                velocity[i] = w * velocity[i] + c1*r1 * (particle['pbest_position'][i] - position[i]) + c2*r2 * (gbest_position[i] - position[i])\n",
        "                position[i] += velocity[i]\n",
        "\n",
        "                # legalize the values to the provided bounds\n",
        "                if bounds is not None:\n",
        "                    position[i] = np.clip(position[i], bounds[i][0], bounds[i][1])\n",
        "\n",
        "    return gbest_position, gbest_value\n"
      ],
      "metadata": {
        "id": "dLzip2xwTxIx"
      },
      "execution_count": 9,
      "outputs": []
    },
    {
      "cell_type": "code",
      "source": [
        "bounds = [(0.0001, 0.001), (32, 64)] #lr, batch_size"
      ],
      "metadata": {
        "id": "xysQyHfqT4-l"
      },
      "execution_count": 10,
      "outputs": []
    },
    {
      "cell_type": "code",
      "source": [
        "best_hyperparameters, best_accuracy = particle_swarm_optimization(num_dimensions=2,\n",
        "                                                                   num_particles=3,\n",
        "                                                                   max_iter=50,\n",
        "                                                                   test = test_loader,\n",
        "                                                                   bounds=bounds\n",
        "                                                                   )\n",
        "\n",
        "print(f\"Optimal Learning Rate: {best_hyperparameters[0]}, Optimal Batch Size: {int(best_hyperparameters[1])}\")\n",
        "print(f\"Best Accuracy: {best_accuracy:.2f}%\")\n"
      ],
      "metadata": {
        "id": "Qcf763sbUB7W",
        "colab": {
          "base_uri": "https://localhost:8080/"
        },
        "outputId": "e0da0c99-549e-424f-9348-24b1c59bd883"
      },
      "execution_count": null,
      "outputs": [
        {
          "output_type": "stream",
          "name": "stdout",
          "text": [
            "Epoch [1/5], Step [704/704], Loss: 2.4085\n",
            "Epoch [2/5], Step [704/704], Loss: 2.3377\n",
            "Epoch [3/5], Step [704/704], Loss: 2.3039\n",
            "Epoch [4/5], Step [704/704], Loss: 2.2441\n",
            "Epoch [5/5], Step [704/704], Loss: 2.3700\n",
            "Accuracy of the network on the 5000 validation images: 10.0 %\n",
            "Epoch [1/5], Step [704/704], Loss: 2.3757\n",
            "Epoch [2/5], Step [704/704], Loss: 2.3450\n",
            "Epoch [3/5], Step [704/704], Loss: 2.3338\n",
            "Epoch [4/5], Step [704/704], Loss: 2.6485\n",
            "Epoch [5/5], Step [704/704], Loss: 2.5264\n",
            "Accuracy of the network on the 5000 validation images: 10.0 %\n",
            "Epoch [1/5], Step [704/704], Loss: 2.3940\n",
            "Epoch [2/5], Step [704/704], Loss: 2.4440\n",
            "Epoch [3/5], Step [704/704], Loss: 2.3890\n",
            "Epoch [4/5], Step [704/704], Loss: 2.4197\n",
            "Epoch [5/5], Step [704/704], Loss: 2.4149\n",
            "Accuracy of the network on the 5000 validation images: 10.0 %\n",
            "Epoch [1/5], Step [704/704], Loss: 1.4109\n",
            "Epoch [2/5], Step [704/704], Loss: 1.1413\n",
            "Epoch [3/5], Step [704/704], Loss: 1.1753\n",
            "Epoch [4/5], Step [704/704], Loss: 1.4465\n",
            "Epoch [5/5], Step [704/704], Loss: 0.4626\n",
            "Accuracy of the network on the 5000 validation images: 73.27 %\n",
            "Epoch [1/5], Step [704/704], Loss: 1.0995\n",
            "Epoch [2/5], Step [704/704], Loss: 1.2756\n",
            "Epoch [3/5], Step [704/704], Loss: 1.4911\n",
            "Epoch [4/5], Step [704/704], Loss: 0.5372\n",
            "Epoch [5/5], Step [704/704], Loss: 0.6332\n",
            "Accuracy of the network on the 5000 validation images: 71.36 %\n",
            "Epoch [1/5], Step [704/704], Loss: 0.9697\n",
            "Epoch [2/5], Step [704/704], Loss: 1.7610\n",
            "Epoch [3/5], Step [704/704], Loss: 2.8684\n",
            "Epoch [4/5], Step [704/704], Loss: 0.6828\n",
            "Epoch [5/5], Step [704/704], Loss: 0.7575\n",
            "Accuracy of the network on the 5000 validation images: 72.68 %\n",
            "Epoch [1/5], Step [704/704], Loss: 1.0074\n",
            "Epoch [2/5], Step [704/704], Loss: 0.6841\n",
            "Epoch [3/5], Step [704/704], Loss: 0.2926\n",
            "Epoch [4/5], Step [704/704], Loss: 0.4619\n",
            "Epoch [5/5], Step [704/704], Loss: 1.1075\n",
            "Accuracy of the network on the 5000 validation images: 76.84 %\n",
            "Epoch [1/5], Step [704/704], Loss: 1.7303\n",
            "Epoch [2/5], Step [704/704], Loss: 0.9564\n",
            "Epoch [3/5], Step [704/704], Loss: 0.7074\n",
            "Epoch [4/5], Step [704/704], Loss: 0.3936\n",
            "Epoch [5/5], Step [704/704], Loss: 0.8949\n",
            "Accuracy of the network on the 5000 validation images: 73.65 %\n",
            "Epoch [1/5], Step [704/704], Loss: 0.9986\n",
            "Epoch [2/5], Step [704/704], Loss: 1.3108\n",
            "Epoch [3/5], Step [704/704], Loss: 1.1582\n",
            "Epoch [4/5], Step [704/704], Loss: 1.3767\n",
            "Epoch [5/5], Step [704/704], Loss: 1.1214\n",
            "Accuracy of the network on the 5000 validation images: 76.24 %\n",
            "Epoch [1/5], Step [704/704], Loss: 1.6159\n",
            "Epoch [2/5], Step [704/704], Loss: 0.8920\n",
            "Epoch [3/5], Step [704/704], Loss: 0.5533\n",
            "Epoch [4/5], Step [704/704], Loss: 0.5809\n",
            "Epoch [5/5], Step [704/704], Loss: 0.0512\n",
            "Accuracy of the network on the 5000 validation images: 76.78 %\n",
            "Epoch [1/5], Step [704/704], Loss: 1.7771\n",
            "Epoch [2/5], Step [704/704], Loss: 1.9520\n",
            "Epoch [3/5], Step [704/704], Loss: 1.1235\n",
            "Epoch [4/5], Step [704/704], Loss: 0.5664\n",
            "Epoch [5/5], Step [704/704], Loss: 0.8296\n",
            "Accuracy of the network on the 5000 validation images: 71.79 %\n",
            "Epoch [1/5], Step [704/704], Loss: 0.7884\n",
            "Epoch [2/5], Step [704/704], Loss: 1.4783\n",
            "Epoch [3/5], Step [704/704], Loss: 1.6599\n",
            "Epoch [4/5], Step [704/704], Loss: 0.3484\n",
            "Epoch [5/5], Step [704/704], Loss: 0.7338\n",
            "Accuracy of the network on the 5000 validation images: 76.77 %\n",
            "Epoch [1/5], Step [704/704], Loss: 1.0068\n",
            "Epoch [2/5], Step [704/704], Loss: 1.2025\n",
            "Epoch [3/5], Step [704/704], Loss: 1.0655\n",
            "Epoch [4/5], Step [704/704], Loss: 0.6060\n",
            "Epoch [5/5], Step [704/704], Loss: 0.8702\n",
            "Accuracy of the network on the 5000 validation images: 76.96 %\n",
            "Epoch [1/5], Step [704/704], Loss: 1.4782\n",
            "Epoch [2/5], Step [704/704], Loss: 0.8530\n",
            "Epoch [3/5], Step [704/704], Loss: 1.1466\n",
            "Epoch [4/5], Step [704/704], Loss: 1.6176\n",
            "Epoch [5/5], Step [704/704], Loss: 1.0230\n",
            "Accuracy of the network on the 5000 validation images: 71.38 %\n",
            "Epoch [1/5], Step [704/704], Loss: 0.9590\n",
            "Epoch [2/5], Step [704/704], Loss: 1.6425\n",
            "Epoch [3/5], Step [704/704], Loss: 0.7698\n",
            "Epoch [4/5], Step [704/704], Loss: 0.4142\n",
            "Epoch [5/5], Step [704/704], Loss: 1.1509\n",
            "Accuracy of the network on the 5000 validation images: 76.61 %\n",
            "Epoch [1/5], Step [704/704], Loss: 1.2725\n",
            "Epoch [2/5], Step [704/704], Loss: 0.6771\n",
            "Epoch [3/5], Step [704/704], Loss: 1.3867\n",
            "Epoch [4/5], Step [704/704], Loss: 0.5896\n",
            "Epoch [5/5], Step [704/704], Loss: 0.7669\n",
            "Accuracy of the network on the 5000 validation images: 77.0 %\n",
            "Epoch [1/5], Step [704/704], Loss: 1.8434\n",
            "Epoch [2/5], Step [704/704], Loss: 1.7894\n",
            "Epoch [3/5], Step [704/704], Loss: 1.4670\n",
            "Epoch [4/5], Step [704/704], Loss: 0.7131\n",
            "Epoch [5/5], Step [704/704], Loss: 2.3620\n",
            "Accuracy of the network on the 5000 validation images: 72.86 %\n",
            "Epoch [1/5], Step [704/704], Loss: 1.2006\n",
            "Epoch [2/5], Step [704/704], Loss: 0.7694\n",
            "Epoch [3/5], Step [704/704], Loss: 1.1712\n",
            "Epoch [4/5], Step [704/704], Loss: 0.8826\n",
            "Epoch [5/5], Step [704/704], Loss: 1.1318\n",
            "Accuracy of the network on the 5000 validation images: 76.05 %\n",
            "Epoch [1/5], Step [704/704], Loss: 1.1176\n",
            "Epoch [2/5], Step [704/704], Loss: 0.7307\n",
            "Epoch [3/5], Step [704/704], Loss: 0.9007\n",
            "Epoch [4/5], Step [704/704], Loss: 0.6431\n",
            "Epoch [5/5], Step [704/704], Loss: 1.3670\n",
            "Accuracy of the network on the 5000 validation images: 76.47 %\n",
            "Epoch [1/5], Step [704/704], Loss: 1.0643\n",
            "Epoch [2/5], Step [704/704], Loss: 1.0606\n",
            "Epoch [3/5], Step [704/704], Loss: 0.3117\n",
            "Epoch [4/5], Step [704/704], Loss: 0.8631\n",
            "Epoch [5/5], Step [704/704], Loss: 0.6253\n",
            "Accuracy of the network on the 5000 validation images: 72.29 %\n",
            "Epoch [1/5], Step [704/704], Loss: 1.4194\n",
            "Epoch [2/5], Step [704/704], Loss: 0.3252\n",
            "Epoch [3/5], Step [704/704], Loss: 0.9400\n",
            "Epoch [4/5], Step [704/704], Loss: 0.7390\n",
            "Epoch [5/5], Step [704/704], Loss: 0.2703\n",
            "Accuracy of the network on the 5000 validation images: 77.08 %\n",
            "Epoch [1/5], Step [704/704], Loss: 1.5547\n",
            "Epoch [2/5], Step [704/704], Loss: 1.3191\n",
            "Epoch [3/5], Step [704/704], Loss: 1.3771\n",
            "Epoch [4/5], Step [704/704], Loss: 1.0357\n",
            "Epoch [5/5], Step [704/704], Loss: 0.7056\n",
            "Accuracy of the network on the 5000 validation images: 75.58 %\n",
            "Epoch [1/5], Step [704/704], Loss: 1.4983\n",
            "Epoch [2/5], Step [704/704], Loss: 1.8330\n",
            "Epoch [3/5], Step [704/704], Loss: 1.7961\n",
            "Epoch [4/5], Step [704/704], Loss: 1.2179\n",
            "Epoch [5/5], Step [704/704], Loss: 0.5499\n",
            "Accuracy of the network on the 5000 validation images: 71.96 %\n",
            "Epoch [1/5], Step [704/704], Loss: 1.0686\n",
            "Epoch [2/5], Step [704/704], Loss: 0.9705\n",
            "Epoch [3/5], Step [704/704], Loss: 1.0329\n",
            "Epoch [4/5], Step [704/704], Loss: 1.0389\n",
            "Epoch [5/5], Step [704/704], Loss: 0.1772\n",
            "Accuracy of the network on the 5000 validation images: 77.07 %\n",
            "Epoch [1/5], Step [704/704], Loss: 1.0690\n",
            "Epoch [2/5], Step [704/704], Loss: 0.9829\n",
            "Epoch [3/5], Step [704/704], Loss: 1.2454\n",
            "Epoch [4/5], Step [704/704], Loss: 0.5922\n",
            "Epoch [5/5], Step [704/704], Loss: 0.7940\n",
            "Accuracy of the network on the 5000 validation images: 76.43 %\n",
            "Epoch [1/5], Step [704/704], Loss: 1.4756\n",
            "Epoch [2/5], Step [704/704], Loss: 1.1065\n",
            "Epoch [3/5], Step [704/704], Loss: 0.7542\n",
            "Epoch [4/5], Step [704/704], Loss: 0.6256\n",
            "Epoch [5/5], Step [704/704], Loss: 0.4604\n",
            "Accuracy of the network on the 5000 validation images: 70.93 %\n",
            "Epoch [1/5], Step [704/704], Loss: 0.8142\n",
            "Epoch [2/5], Step [704/704], Loss: 1.5735\n",
            "Epoch [3/5], Step [704/704], Loss: 0.6437\n",
            "Epoch [4/5], Step [704/704], Loss: 0.5746\n",
            "Epoch [5/5], Step [704/704], Loss: 0.8200\n",
            "Accuracy of the network on the 5000 validation images: 76.12 %\n",
            "Epoch [1/5], Step [704/704], Loss: 1.2707\n",
            "Epoch [2/5], Step [704/704], Loss: 0.6923\n",
            "Epoch [3/5], Step [704/704], Loss: 0.2303\n"
          ]
        }
      ]
    },
    {
      "cell_type": "code",
      "source": [],
      "metadata": {
        "id": "4mJsfnL2USbc"
      },
      "execution_count": null,
      "outputs": []
    },
    {
      "cell_type": "code",
      "source": [
        "def evaluate_accuracy(params):\n",
        "  lr, batch_size = params\n",
        "\n",
        "  model = model().to(device)\n",
        "  criterion = nn.CrossEntropyLoss()\n",
        "  optimizer = torch.optim.Adam(model.parameters(), lr = lr)# train model\n",
        "\n",
        "  total_step = len(train_loader)\n",
        "\n",
        "  for epoch in range(num_epochs):\n",
        "      for i, (images, labels) in enumerate(train_loader):\n",
        "          # Move tensors to the configured device\n",
        "          images = images.to(device)\n",
        "          labels = labels.to(device)\n",
        "\n",
        "          # Forward pass\n",
        "          outputs = model(images)\n",
        "          loss = criterion(outputs, labels)\n",
        "\n",
        "          # Backward and optimize\n",
        "          optimizer.zero_grad()\n",
        "          loss.backward()\n",
        "          optimizer.step()\n",
        "\n",
        "      print ('Epoch [{}/{}], Step [{}/{}], Loss: {:.4f}'\n",
        "                    .format(epoch+1, num_epochs, i+1, total_step, loss.item()))\n",
        "\n",
        "      # Validation\n",
        "      with torch.no_grad():\n",
        "          correct = 0\n",
        "          total = 0\n",
        "          for images, labels in valid_loader:\n",
        "              images = images.to(device)\n",
        "              labels = labels.to(device)\n",
        "              outputs = model(images)\n",
        "              _, predicted = torch.max(outputs.data, 1)\n",
        "              total += labels.size(0)\n",
        "              correct += (predicted == labels).sum().item()\n",
        "              del images, labels, outputs\n",
        "\n",
        "          print('Accuracy of the network on the {} validation images: {} %'.format(5000, 100 * correct / total))\n",
        "          return 100 * correct / total\n",
        "\n"
      ],
      "metadata": {
        "id": "Qs0bWd47XxqN"
      },
      "execution_count": null,
      "outputs": []
    }
  ]
}