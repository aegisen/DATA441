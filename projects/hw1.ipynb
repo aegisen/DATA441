{
  "nbformat": 4,
  "nbformat_minor": 0,
  "metadata": {
    "colab": {
      "provenance": [],
      "mount_file_id": "1nuXNFN_FuEZ7nILowEfsBZ4SKYFB2SgE",
      "authorship_tag": "ABX9TyNNqcfSVsOzMW/u7ZaOSQXH",
      "include_colab_link": true
    },
    "kernelspec": {
      "name": "python3",
      "display_name": "Python 3"
    },
    "language_info": {
      "name": "python"
    }
  },
  "cells": [
    {
      "cell_type": "markdown",
      "metadata": {
        "id": "view-in-github",
        "colab_type": "text"
      },
      "source": [
        "<a href=\"https://colab.research.google.com/github/aegisen/DATA441/blob/main/hw1.ipynb\" target=\"_parent\"><img src=\"https://colab.research.google.com/assets/colab-badge.svg\" alt=\"Open In Colab\"/></a>"
      ]
    },
    {
      "cell_type": "code",
      "source": [
        "import pandas as pd"
      ],
      "metadata": {
        "id": "obtB-z2Btrwq"
      },
      "execution_count": 4,
      "outputs": []
    },
    {
      "cell_type": "code",
      "source": [
        "data = pd.read_csv('drive/MyDrive/Adv. Appl. Machine Learning/data/cars.csv')"
      ],
      "metadata": {
        "id": "PIhjRfXItqbQ"
      },
      "execution_count": 5,
      "outputs": []
    },
    {
      "cell_type": "code",
      "source": [
        "data"
      ],
      "metadata": {
        "colab": {
          "base_uri": "https://localhost:8080/",
          "height": 423
        },
        "id": "PeNEMBxEuG8o",
        "outputId": "2bf8a77a-8b05-4cf9-f03f-6bdec7ef831d"
      },
      "execution_count": 6,
      "outputs": [
        {
          "output_type": "execute_result",
          "data": {
            "text/plain": [
              "      MPG  CYL    ENG   WGT\n",
              "0    18.0    8  307.0  3504\n",
              "1    15.0    8  350.0  3693\n",
              "2    18.0    8  318.0  3436\n",
              "3    16.0    8  304.0  3433\n",
              "4    17.0    8  302.0  3449\n",
              "..    ...  ...    ...   ...\n",
              "387  27.0    4  140.0  2790\n",
              "388  44.0    4   97.0  2130\n",
              "389  32.0    4  135.0  2295\n",
              "390  28.0    4  120.0  2625\n",
              "391  31.0    4  119.0  2720\n",
              "\n",
              "[392 rows x 4 columns]"
            ],
            "text/html": [
              "\n",
              "  <div id=\"df-83938cfb-d5e6-4b33-bd5f-aa3b1624cb17\" class=\"colab-df-container\">\n",
              "    <div>\n",
              "<style scoped>\n",
              "    .dataframe tbody tr th:only-of-type {\n",
              "        vertical-align: middle;\n",
              "    }\n",
              "\n",
              "    .dataframe tbody tr th {\n",
              "        vertical-align: top;\n",
              "    }\n",
              "\n",
              "    .dataframe thead th {\n",
              "        text-align: right;\n",
              "    }\n",
              "</style>\n",
              "<table border=\"1\" class=\"dataframe\">\n",
              "  <thead>\n",
              "    <tr style=\"text-align: right;\">\n",
              "      <th></th>\n",
              "      <th>MPG</th>\n",
              "      <th>CYL</th>\n",
              "      <th>ENG</th>\n",
              "      <th>WGT</th>\n",
              "    </tr>\n",
              "  </thead>\n",
              "  <tbody>\n",
              "    <tr>\n",
              "      <th>0</th>\n",
              "      <td>18.0</td>\n",
              "      <td>8</td>\n",
              "      <td>307.0</td>\n",
              "      <td>3504</td>\n",
              "    </tr>\n",
              "    <tr>\n",
              "      <th>1</th>\n",
              "      <td>15.0</td>\n",
              "      <td>8</td>\n",
              "      <td>350.0</td>\n",
              "      <td>3693</td>\n",
              "    </tr>\n",
              "    <tr>\n",
              "      <th>2</th>\n",
              "      <td>18.0</td>\n",
              "      <td>8</td>\n",
              "      <td>318.0</td>\n",
              "      <td>3436</td>\n",
              "    </tr>\n",
              "    <tr>\n",
              "      <th>3</th>\n",
              "      <td>16.0</td>\n",
              "      <td>8</td>\n",
              "      <td>304.0</td>\n",
              "      <td>3433</td>\n",
              "    </tr>\n",
              "    <tr>\n",
              "      <th>4</th>\n",
              "      <td>17.0</td>\n",
              "      <td>8</td>\n",
              "      <td>302.0</td>\n",
              "      <td>3449</td>\n",
              "    </tr>\n",
              "    <tr>\n",
              "      <th>...</th>\n",
              "      <td>...</td>\n",
              "      <td>...</td>\n",
              "      <td>...</td>\n",
              "      <td>...</td>\n",
              "    </tr>\n",
              "    <tr>\n",
              "      <th>387</th>\n",
              "      <td>27.0</td>\n",
              "      <td>4</td>\n",
              "      <td>140.0</td>\n",
              "      <td>2790</td>\n",
              "    </tr>\n",
              "    <tr>\n",
              "      <th>388</th>\n",
              "      <td>44.0</td>\n",
              "      <td>4</td>\n",
              "      <td>97.0</td>\n",
              "      <td>2130</td>\n",
              "    </tr>\n",
              "    <tr>\n",
              "      <th>389</th>\n",
              "      <td>32.0</td>\n",
              "      <td>4</td>\n",
              "      <td>135.0</td>\n",
              "      <td>2295</td>\n",
              "    </tr>\n",
              "    <tr>\n",
              "      <th>390</th>\n",
              "      <td>28.0</td>\n",
              "      <td>4</td>\n",
              "      <td>120.0</td>\n",
              "      <td>2625</td>\n",
              "    </tr>\n",
              "    <tr>\n",
              "      <th>391</th>\n",
              "      <td>31.0</td>\n",
              "      <td>4</td>\n",
              "      <td>119.0</td>\n",
              "      <td>2720</td>\n",
              "    </tr>\n",
              "  </tbody>\n",
              "</table>\n",
              "<p>392 rows × 4 columns</p>\n",
              "</div>\n",
              "    <div class=\"colab-df-buttons\">\n",
              "\n",
              "  <div class=\"colab-df-container\">\n",
              "    <button class=\"colab-df-convert\" onclick=\"convertToInteractive('df-83938cfb-d5e6-4b33-bd5f-aa3b1624cb17')\"\n",
              "            title=\"Convert this dataframe to an interactive table.\"\n",
              "            style=\"display:none;\">\n",
              "\n",
              "  <svg xmlns=\"http://www.w3.org/2000/svg\" height=\"24px\" viewBox=\"0 -960 960 960\">\n",
              "    <path d=\"M120-120v-720h720v720H120Zm60-500h600v-160H180v160Zm220 220h160v-160H400v160Zm0 220h160v-160H400v160ZM180-400h160v-160H180v160Zm440 0h160v-160H620v160ZM180-180h160v-160H180v160Zm440 0h160v-160H620v160Z\"/>\n",
              "  </svg>\n",
              "    </button>\n",
              "\n",
              "  <style>\n",
              "    .colab-df-container {\n",
              "      display:flex;\n",
              "      gap: 12px;\n",
              "    }\n",
              "\n",
              "    .colab-df-convert {\n",
              "      background-color: #E8F0FE;\n",
              "      border: none;\n",
              "      border-radius: 50%;\n",
              "      cursor: pointer;\n",
              "      display: none;\n",
              "      fill: #1967D2;\n",
              "      height: 32px;\n",
              "      padding: 0 0 0 0;\n",
              "      width: 32px;\n",
              "    }\n",
              "\n",
              "    .colab-df-convert:hover {\n",
              "      background-color: #E2EBFA;\n",
              "      box-shadow: 0px 1px 2px rgba(60, 64, 67, 0.3), 0px 1px 3px 1px rgba(60, 64, 67, 0.15);\n",
              "      fill: #174EA6;\n",
              "    }\n",
              "\n",
              "    .colab-df-buttons div {\n",
              "      margin-bottom: 4px;\n",
              "    }\n",
              "\n",
              "    [theme=dark] .colab-df-convert {\n",
              "      background-color: #3B4455;\n",
              "      fill: #D2E3FC;\n",
              "    }\n",
              "\n",
              "    [theme=dark] .colab-df-convert:hover {\n",
              "      background-color: #434B5C;\n",
              "      box-shadow: 0px 1px 3px 1px rgba(0, 0, 0, 0.15);\n",
              "      filter: drop-shadow(0px 1px 2px rgba(0, 0, 0, 0.3));\n",
              "      fill: #FFFFFF;\n",
              "    }\n",
              "  </style>\n",
              "\n",
              "    <script>\n",
              "      const buttonEl =\n",
              "        document.querySelector('#df-83938cfb-d5e6-4b33-bd5f-aa3b1624cb17 button.colab-df-convert');\n",
              "      buttonEl.style.display =\n",
              "        google.colab.kernel.accessAllowed ? 'block' : 'none';\n",
              "\n",
              "      async function convertToInteractive(key) {\n",
              "        const element = document.querySelector('#df-83938cfb-d5e6-4b33-bd5f-aa3b1624cb17');\n",
              "        const dataTable =\n",
              "          await google.colab.kernel.invokeFunction('convertToInteractive',\n",
              "                                                    [key], {});\n",
              "        if (!dataTable) return;\n",
              "\n",
              "        const docLinkHtml = 'Like what you see? Visit the ' +\n",
              "          '<a target=\"_blank\" href=https://colab.research.google.com/notebooks/data_table.ipynb>data table notebook</a>'\n",
              "          + ' to learn more about interactive tables.';\n",
              "        element.innerHTML = '';\n",
              "        dataTable['output_type'] = 'display_data';\n",
              "        await google.colab.output.renderOutput(dataTable, element);\n",
              "        const docLink = document.createElement('div');\n",
              "        docLink.innerHTML = docLinkHtml;\n",
              "        element.appendChild(docLink);\n",
              "      }\n",
              "    </script>\n",
              "  </div>\n",
              "\n",
              "\n",
              "<div id=\"df-c86165d5-04a1-45de-b63e-65ecaae6a64b\">\n",
              "  <button class=\"colab-df-quickchart\" onclick=\"quickchart('df-c86165d5-04a1-45de-b63e-65ecaae6a64b')\"\n",
              "            title=\"Suggest charts\"\n",
              "            style=\"display:none;\">\n",
              "\n",
              "<svg xmlns=\"http://www.w3.org/2000/svg\" height=\"24px\"viewBox=\"0 0 24 24\"\n",
              "     width=\"24px\">\n",
              "    <g>\n",
              "        <path d=\"M19 3H5c-1.1 0-2 .9-2 2v14c0 1.1.9 2 2 2h14c1.1 0 2-.9 2-2V5c0-1.1-.9-2-2-2zM9 17H7v-7h2v7zm4 0h-2V7h2v10zm4 0h-2v-4h2v4z\"/>\n",
              "    </g>\n",
              "</svg>\n",
              "  </button>\n",
              "\n",
              "<style>\n",
              "  .colab-df-quickchart {\n",
              "      --bg-color: #E8F0FE;\n",
              "      --fill-color: #1967D2;\n",
              "      --hover-bg-color: #E2EBFA;\n",
              "      --hover-fill-color: #174EA6;\n",
              "      --disabled-fill-color: #AAA;\n",
              "      --disabled-bg-color: #DDD;\n",
              "  }\n",
              "\n",
              "  [theme=dark] .colab-df-quickchart {\n",
              "      --bg-color: #3B4455;\n",
              "      --fill-color: #D2E3FC;\n",
              "      --hover-bg-color: #434B5C;\n",
              "      --hover-fill-color: #FFFFFF;\n",
              "      --disabled-bg-color: #3B4455;\n",
              "      --disabled-fill-color: #666;\n",
              "  }\n",
              "\n",
              "  .colab-df-quickchart {\n",
              "    background-color: var(--bg-color);\n",
              "    border: none;\n",
              "    border-radius: 50%;\n",
              "    cursor: pointer;\n",
              "    display: none;\n",
              "    fill: var(--fill-color);\n",
              "    height: 32px;\n",
              "    padding: 0;\n",
              "    width: 32px;\n",
              "  }\n",
              "\n",
              "  .colab-df-quickchart:hover {\n",
              "    background-color: var(--hover-bg-color);\n",
              "    box-shadow: 0 1px 2px rgba(60, 64, 67, 0.3), 0 1px 3px 1px rgba(60, 64, 67, 0.15);\n",
              "    fill: var(--button-hover-fill-color);\n",
              "  }\n",
              "\n",
              "  .colab-df-quickchart-complete:disabled,\n",
              "  .colab-df-quickchart-complete:disabled:hover {\n",
              "    background-color: var(--disabled-bg-color);\n",
              "    fill: var(--disabled-fill-color);\n",
              "    box-shadow: none;\n",
              "  }\n",
              "\n",
              "  .colab-df-spinner {\n",
              "    border: 2px solid var(--fill-color);\n",
              "    border-color: transparent;\n",
              "    border-bottom-color: var(--fill-color);\n",
              "    animation:\n",
              "      spin 1s steps(1) infinite;\n",
              "  }\n",
              "\n",
              "  @keyframes spin {\n",
              "    0% {\n",
              "      border-color: transparent;\n",
              "      border-bottom-color: var(--fill-color);\n",
              "      border-left-color: var(--fill-color);\n",
              "    }\n",
              "    20% {\n",
              "      border-color: transparent;\n",
              "      border-left-color: var(--fill-color);\n",
              "      border-top-color: var(--fill-color);\n",
              "    }\n",
              "    30% {\n",
              "      border-color: transparent;\n",
              "      border-left-color: var(--fill-color);\n",
              "      border-top-color: var(--fill-color);\n",
              "      border-right-color: var(--fill-color);\n",
              "    }\n",
              "    40% {\n",
              "      border-color: transparent;\n",
              "      border-right-color: var(--fill-color);\n",
              "      border-top-color: var(--fill-color);\n",
              "    }\n",
              "    60% {\n",
              "      border-color: transparent;\n",
              "      border-right-color: var(--fill-color);\n",
              "    }\n",
              "    80% {\n",
              "      border-color: transparent;\n",
              "      border-right-color: var(--fill-color);\n",
              "      border-bottom-color: var(--fill-color);\n",
              "    }\n",
              "    90% {\n",
              "      border-color: transparent;\n",
              "      border-bottom-color: var(--fill-color);\n",
              "    }\n",
              "  }\n",
              "</style>\n",
              "\n",
              "  <script>\n",
              "    async function quickchart(key) {\n",
              "      const quickchartButtonEl =\n",
              "        document.querySelector('#' + key + ' button');\n",
              "      quickchartButtonEl.disabled = true;  // To prevent multiple clicks.\n",
              "      quickchartButtonEl.classList.add('colab-df-spinner');\n",
              "      try {\n",
              "        const charts = await google.colab.kernel.invokeFunction(\n",
              "            'suggestCharts', [key], {});\n",
              "      } catch (error) {\n",
              "        console.error('Error during call to suggestCharts:', error);\n",
              "      }\n",
              "      quickchartButtonEl.classList.remove('colab-df-spinner');\n",
              "      quickchartButtonEl.classList.add('colab-df-quickchart-complete');\n",
              "    }\n",
              "    (() => {\n",
              "      let quickchartButtonEl =\n",
              "        document.querySelector('#df-c86165d5-04a1-45de-b63e-65ecaae6a64b button');\n",
              "      quickchartButtonEl.style.display =\n",
              "        google.colab.kernel.accessAllowed ? 'block' : 'none';\n",
              "    })();\n",
              "  </script>\n",
              "</div>\n",
              "    </div>\n",
              "  </div>\n"
            ]
          },
          "metadata": {},
          "execution_count": 6
        }
      ]
    },
    {
      "cell_type": "code",
      "source": [
        "x = data.loc[:,'CYL':'WGT'].values\n",
        "y = data['MPG'].values"
      ],
      "metadata": {
        "id": "KkceNMHIuK8d"
      },
      "execution_count": 7,
      "outputs": []
    },
    {
      "cell_type": "code",
      "source": [],
      "metadata": {
        "id": "Sl6-3CsnuMTc"
      },
      "execution_count": 7,
      "outputs": []
    },
    {
      "cell_type": "markdown",
      "source": [
        "# 2. Coding problem: implement a gradient descent method for Ridge Regression by using the PyTorch library. Your implementation should be a class that has the required methods “.fit” and “.predict”. You should include an application of your code to a data set.\n"
      ],
      "metadata": {
        "id": "ia9EPLiAlnCF"
      }
    },
    {
      "cell_type": "code",
      "source": [
        "import torch\n",
        "import numpy as np\n",
        "import matplotlib.pyplot as plt\n",
        "from sklearn.preprocessing import StandardScaler, MinMaxScaler\n",
        "from sklearn.model_selection import train_test_split as tts, KFold, GridSearchCV"
      ],
      "metadata": {
        "id": "auxCmutzluuU"
      },
      "execution_count": 52,
      "outputs": []
    },
    {
      "cell_type": "code",
      "source": [
        "from torch.utils.data import Dataset, DataLoader"
      ],
      "metadata": {
        "id": "C__hUQcQoTmQ"
      },
      "execution_count": 53,
      "outputs": []
    },
    {
      "cell_type": "code",
      "execution_count": 54,
      "metadata": {
        "id": "GZQ12vUWTP1H"
      },
      "outputs": [],
      "source": [
        "# Ridge Regression w/ Pytorch"
      ]
    },
    {
      "cell_type": "code",
      "source": [
        "class RidgeRegression():\n",
        "    def __init__(self, C=0.5, lr=0.00001, n_iter=10000, fit_intercept=True):\n",
        "        self.C = C\n",
        "        self.lr = lr\n",
        "        self.n_iter = n_iter\n",
        "        self.fit_intercept= fit_intercept\n",
        "        return\n",
        "\n",
        "    def add_intercept(self,x):\n",
        "        a = torch.ones(x.size()[0],1)\n",
        "        return torch.cat((x,a),axis=1)\n",
        "\n",
        "    def reg(self, x):\n",
        "        return x @ self.w.t() + self.b\n",
        "\n",
        "    def fit(self,x,y):\n",
        "        x = torch.tensor(x).float()\n",
        "        y = torch.tensor(x).float()\n",
        "\n",
        "        if self.fit_intercept:\n",
        "            x = self.add_intercept(x)\n",
        "\n",
        "        self.w = torch.randn(x.size()[1], requires_grad=True)\n",
        "        self.b = torch.randn(1, requires_grad=True)\n",
        "\n",
        "        for i in range(self.n_iter):\n",
        "            y_hat = self.reg(x)\n",
        "\n",
        "            with torch.no_grad():\n",
        "                self.w -= self.w.grad * self.lr\n",
        "                self.b -= self.b.grad * self.lr\n",
        "                self.w.grad.zero_()\n",
        "                self.b.grad.zero_()\n",
        "\n",
        "    def predict(self, x):\n",
        "        x = torch.tensor(x).float()\n",
        "\n",
        "        if self.fit_intercept:\n",
        "            x = self.add_intercept(x)\n",
        "\n",
        "        preds = self.reg(x).detach().numpy()\n",
        "\n",
        "        return preds"
      ],
      "metadata": {
        "id": "tocsFl5SpBuR"
      },
      "execution_count": 65,
      "outputs": []
    },
    {
      "cell_type": "code",
      "source": [
        "x_train = torch.Tensor([[1],[2],[3],[4]])\n",
        "y_train = torch.Tensor([[2],[4],[6],[8]])\n",
        "\n",
        "x_test = torch.Tensor([[1],[2],[4]])"
      ],
      "metadata": {
        "id": "7iS7WPwO2WNk"
      },
      "execution_count": 13,
      "outputs": []
    },
    {
      "cell_type": "code",
      "source": [
        "rr = RidgeRegression()"
      ],
      "metadata": {
        "id": "AWpbem6uwCun"
      },
      "execution_count": 14,
      "outputs": []
    },
    {
      "cell_type": "code",
      "source": [
        "rr.fit(x_train, y_train)\n",
        "rr.predict(x_test)"
      ],
      "metadata": {
        "colab": {
          "base_uri": "https://localhost:8080/"
        },
        "id": "7nMTI4jXv8K6",
        "outputId": "3a6dd20b-3912-4256-81e5-8356047c73e7"
      },
      "execution_count": 15,
      "outputs": [
        {
          "output_type": "stream",
          "name": "stderr",
          "text": [
            "<ipython-input-12-3a94707bf177>:26: UserWarning: To copy construct from a tensor, it is recommended to use sourceTensor.clone().detach() or sourceTensor.clone().detach().requires_grad_(True), rather than torch.tensor(sourceTensor).\n",
            "  return torch.tensor(x).float()\n"
          ]
        },
        {
          "output_type": "execute_result",
          "data": {
            "text/plain": [
              "array([0.95825046, 2.0886626 , 4.3494873 ], dtype=float32)"
            ]
          },
          "metadata": {},
          "execution_count": 15
        }
      ]
    },
    {
      "cell_type": "markdown",
      "source": [
        "### Test on dataset data"
      ],
      "metadata": {
        "id": "1Vc4Q5-hpOry"
      }
    },
    {
      "cell_type": "code",
      "source": [
        "scale = StandardScaler()\n",
        "\n",
        "xscaled = scale.fit_transform(x)\n",
        "\n",
        "x_tensor = torch.tensor(x)\n",
        "y_tensor = torch.tensor(y)"
      ],
      "metadata": {
        "id": "pPfEUciP4UVV"
      },
      "execution_count": 69,
      "outputs": []
    },
    {
      "cell_type": "code",
      "source": [
        "rr.fit(xscaled, y)\n",
        "y_pred = rr.predict(xscaled)"
      ],
      "metadata": {
        "id": "0UkWfCQ1k4qc"
      },
      "execution_count": 70,
      "outputs": []
    },
    {
      "cell_type": "code",
      "source": [
        "mse(y, y_pred)"
      ],
      "metadata": {
        "colab": {
          "base_uri": "https://localhost:8080/"
        },
        "id": "PlEkJi0pnDDc",
        "outputId": "4d5b67e6-263b-44e1-a1dc-504ce5d6d06b"
      },
      "execution_count": 71,
      "outputs": [
        {
          "output_type": "execute_result",
          "data": {
            "text/plain": [
              "283.57439533878056"
            ]
          },
          "metadata": {},
          "execution_count": 71
        }
      ]
    },
    {
      "cell_type": "markdown",
      "source": [
        "# 3. Complete the exercise provided in the Application to Locally Weighted Regression notebook and test the method on a data set, for example, the one provided in class.\n"
      ],
      "metadata": {
        "id": "grMk6FyJlsqZ"
      }
    },
    {
      "cell_type": "code",
      "source": [
        "# Libraries of functions need to be imported\n",
        "import numpy as np\n",
        "import pandas as pd\n",
        "from sklearn import linear_model\n",
        "from sklearn.preprocessing import StandardScaler, MinMaxScaler\n",
        "from sklearn.model_selection import train_test_split as tts, KFold, GridSearchCV\n",
        "from sklearn.metrics import mean_squared_error as mse\n",
        "\n",
        "# the following line(s) are necessary if you want to make SKlearn compliant functions\n",
        "from sklearn.base import BaseEstimator, RegressorMixin\n",
        "from sklearn.utils.validation import check_X_y, check_array, check_is_fitted"
      ],
      "metadata": {
        "id": "c7SScx2vpGkY"
      },
      "execution_count": 31,
      "outputs": []
    },
    {
      "cell_type": "code",
      "source": [
        "lm = linear_model.LinearRegression()"
      ],
      "metadata": {
        "id": "0tRND7eVpDIc"
      },
      "execution_count": 32,
      "outputs": []
    },
    {
      "cell_type": "code",
      "source": [
        "# Gaussian Kernel\n",
        "def Gaussian(x):\n",
        "  return np.where(np.abs(x)>4,0,1/(np.sqrt(2*np.pi))*np.exp(-1/2*x**2))"
      ],
      "metadata": {
        "id": "DQDTK562poj3"
      },
      "execution_count": 33,
      "outputs": []
    },
    {
      "cell_type": "code",
      "source": [
        "def dist(u,v):\n",
        "  if len(v.shape)==1:\n",
        "    v = v.reshape(1,-1)\n",
        "    d = np.sqrt(np.sum((u-v)**2,axis=1))\n",
        "  else:\n",
        "    d = np.array([np.sqrt(np.sum((u-v[i])**2,axis=1)) for i in range(len(v))])\n",
        "  return d"
      ],
      "metadata": {
        "id": "J9SC1Z4OpM8i"
      },
      "execution_count": 34,
      "outputs": []
    },
    {
      "cell_type": "code",
      "source": [
        "def kernel_function(xi,x0,kern, tau):\n",
        "    return kern(dist(xi,x0)/(2*tau))"
      ],
      "metadata": {
        "id": "n7DhSPUAo-S6"
      },
      "execution_count": 35,
      "outputs": []
    },
    {
      "cell_type": "code",
      "source": [
        "def weights_matrix(x,x_new,kern,tau):\n",
        "  if np.isscalar(x_new):\n",
        "    w = kernel_function(x,x_new,kern,tau)\n",
        "  else:\n",
        "    if len(x_new.shape)==1:\n",
        "      n = 1\n",
        "      w = kernel_function(x,x_new,kern,tau=0.05).reshape(1,-1)\n",
        "    else:\n",
        "      n = len(x_new)\n",
        "      w = np.array([kernel_function(x,x_new[i],kern,tau) for i in range(n)]).reshape(n,len(x))\n",
        "  return w"
      ],
      "metadata": {
        "id": "bW15qthGo-7f"
      },
      "execution_count": 36,
      "outputs": []
    },
    {
      "cell_type": "code",
      "source": [
        "def weight_function(u,v,kern=Gaussian,tau=0.5):\n",
        "  return kern(dist(u,v)/(2*tau))\n"
      ],
      "metadata": {
        "id": "FPXVbg60cBIr"
      },
      "execution_count": 37,
      "outputs": []
    },
    {
      "cell_type": "code",
      "source": [
        "class Lowess:\n",
        "  def __init__(self, kernel = Gaussian, tau=0.05):\n",
        "    self.kernel = kernel\n",
        "    self.tau = tau\n",
        "\n",
        "  def fit(self, x, y):\n",
        "    kernel = self.kernel\n",
        "    tau = self.tau\n",
        "    self.xtrain_ = x\n",
        "    self.yhat_ = y\n",
        "\n",
        "  def predict(self, x_new):\n",
        "    check_is_fitted(self)\n",
        "    x = self.xtrain_\n",
        "    y = self.yhat_\n",
        "    lm = linear_model.Ridge(alpha=0.001)\n",
        "    w = weight_function(x,x_new,self.kernel,self.tau)\n",
        "    if np.isscalar(x_new):\n",
        "      lm.fit(np.diag(w)@(x.reshape(-1,1)),np.diag(w)@(y.reshape(-1,1)))\n",
        "      yest = lm.predict([[x_new]])[0][0]\n",
        "    else:\n",
        "      n = len(x_new)\n",
        "      yest_test = np.zeros(n)\n",
        "      #Looping through all x-points\n",
        "      for i in range(n):\n",
        "        lm.fit(np.diag(w[:,i])@x,np.diag(w[:,i])@y)\n",
        "        yest_test[i] = lm.predict(x_new[i].reshape(1,-1))\n",
        "\n",
        "    return yest_test\n"
      ],
      "metadata": {
        "id": "_zSBeTGAZy0E"
      },
      "execution_count": 38,
      "outputs": []
    },
    {
      "cell_type": "code",
      "source": [
        "scale = StandardScaler()\n",
        "kf = KFold(n_splits=10,shuffle=True,random_state=441)"
      ],
      "metadata": {
        "id": "OqWZT2G5vl6x"
      },
      "execution_count": 39,
      "outputs": []
    },
    {
      "cell_type": "code",
      "source": [
        "x"
      ],
      "metadata": {
        "colab": {
          "base_uri": "https://localhost:8080/"
        },
        "id": "NSDv4i_pzFaP",
        "outputId": "4be518c3-363a-41f6-d3ba-e6003927c875"
      },
      "execution_count": 40,
      "outputs": [
        {
          "output_type": "execute_result",
          "data": {
            "text/plain": [
              "array([[   8.,  307., 3504.],\n",
              "       [   8.,  350., 3693.],\n",
              "       [   8.,  318., 3436.],\n",
              "       ...,\n",
              "       [   4.,  135., 2295.],\n",
              "       [   4.,  120., 2625.],\n",
              "       [   4.,  119., 2720.]])"
            ]
          },
          "metadata": {},
          "execution_count": 40
        }
      ]
    },
    {
      "cell_type": "code",
      "source": [
        "y"
      ],
      "metadata": {
        "colab": {
          "base_uri": "https://localhost:8080/"
        },
        "id": "Sb8MQVj9zGs4",
        "outputId": "a01cdf3f-ae96-4457-f86e-cc7bba1849de"
      },
      "execution_count": 41,
      "outputs": [
        {
          "output_type": "execute_result",
          "data": {
            "text/plain": [
              "array([18.      , 15.      , 18.      , 16.      , 17.      , 15.      ,\n",
              "       14.      , 14.      , 14.      , 15.      , 15.      , 14.      ,\n",
              "       15.      , 14.      , 24.      , 22.      , 18.      , 21.      ,\n",
              "       27.      , 26.      , 25.      , 24.      , 25.      , 26.      ,\n",
              "       21.      , 10.      , 10.      , 11.      ,  9.      , 27.      ,\n",
              "       28.      , 25.      , 19.      , 16.      , 17.      , 19.      ,\n",
              "       18.      , 14.      , 14.      , 14.      , 14.      , 12.      ,\n",
              "       13.      , 13.      , 18.      , 22.      , 19.      , 18.      ,\n",
              "       23.      , 28.      , 30.      , 30.      , 31.      , 35.      ,\n",
              "       27.      , 26.      , 24.      , 25.      , 23.      , 20.      ,\n",
              "       21.      , 13.      , 14.      , 15.      , 14.      , 17.      ,\n",
              "       11.      , 13.      , 12.      , 13.      , 19.      , 15.      ,\n",
              "       13.      , 13.      , 14.      , 18.      , 22.      , 21.      ,\n",
              "       26.      , 22.      , 28.      , 23.      , 28.      , 27.      ,\n",
              "       13.      , 14.      , 13.      , 14.      , 15.      , 12.      ,\n",
              "       13.      , 13.      , 14.      , 13.      , 12.      , 13.      ,\n",
              "       18.      , 16.      , 18.      , 18.      , 23.      , 26.      ,\n",
              "       11.      , 12.      , 13.      , 12.      , 18.      , 20.      ,\n",
              "       21.      , 22.      , 18.      , 19.      , 21.      , 26.      ,\n",
              "       15.      , 16.      , 29.      , 24.      , 20.      , 19.      ,\n",
              "       15.      , 24.      , 20.      , 11.      , 20.      , 19.      ,\n",
              "       15.      , 31.      , 26.      , 32.      , 25.      , 16.      ,\n",
              "       16.      , 18.      , 16.      , 13.      , 14.      , 14.      ,\n",
              "       14.      , 29.      , 26.      , 26.      , 31.      , 32.      ,\n",
              "       28.      , 24.      , 26.      , 24.      , 26.      , 31.      ,\n",
              "       19.      , 18.      , 15.      , 15.      , 16.      , 15.      ,\n",
              "       16.      , 14.      , 17.      , 16.      , 15.      , 18.      ,\n",
              "       21.      , 20.      , 13.      , 29.      , 23.      , 20.      ,\n",
              "       23.      , 24.      , 25.      , 24.      , 18.      , 29.      ,\n",
              "       19.      , 23.      , 23.      , 22.      , 25.      , 33.      ,\n",
              "       28.      , 25.      , 25.      , 26.      , 27.      , 17.5     ,\n",
              "       16.      , 15.5     , 14.5     , 22.      , 22.      , 24.      ,\n",
              "       22.5     , 29.      , 24.5     , 29.      , 33.      , 20.      ,\n",
              "       18.      , 18.5     , 17.5     , 29.5     , 32.      , 28.      ,\n",
              "       26.5     , 20.      , 13.      , 19.      , 19.      , 16.5     ,\n",
              "       16.5     , 13.      , 13.      , 13.      , 31.5     , 30.      ,\n",
              "       36.      , 25.5     , 33.5     , 17.5     , 17.      , 15.5     ,\n",
              "       15.      , 17.5     , 20.5     , 19.      , 18.5     , 16.      ,\n",
              "       15.5     , 15.5     , 16.      , 29.      , 24.5     , 26.      ,\n",
              "       25.5     , 30.5     , 33.5     , 30.      , 30.5     , 22.      ,\n",
              "       21.5     , 21.5     , 43.099998, 36.099998, 32.799999, 39.400002,\n",
              "       36.099998, 19.9     , 19.4     , 20.200001, 19.200001, 20.5     ,\n",
              "       20.200001, 25.1     , 20.5     , 19.4     , 20.6     , 20.799999,\n",
              "       18.6     , 18.1     , 19.200001, 17.700001, 18.1     , 17.5     ,\n",
              "       30.      , 27.5     , 27.200001, 30.9     , 21.1     , 23.200001,\n",
              "       23.799999, 23.9     , 20.299999, 17.      , 21.6     , 16.200001,\n",
              "       31.5     , 29.5     , 21.5     , 19.799999, 22.299999, 20.200001,\n",
              "       20.6     , 17.      , 17.6     , 16.5     , 18.200001, 16.9     ,\n",
              "       15.5     , 19.200001, 18.5     , 31.9     , 34.099998, 35.700001,\n",
              "       27.4     , 25.4     , 23.      , 27.200001, 23.9     , 34.200001,\n",
              "       34.5     , 31.799999, 37.299999, 28.4     , 28.799999, 26.799999,\n",
              "       33.5     , 41.5     , 38.099998, 32.099998, 37.200001, 28.      ,\n",
              "       26.4     , 24.299999, 19.1     , 34.299999, 29.799999, 31.299999,\n",
              "       37.      , 32.200001, 46.599998, 27.9     , 40.799999, 44.299999,\n",
              "       43.400002, 36.400002, 30.      , 44.599998, 33.799999, 29.799999,\n",
              "       32.700001, 23.700001, 35.      , 32.400002, 27.200001, 26.6     ,\n",
              "       25.799999, 23.5     , 30.      , 39.099998, 39.      , 35.099998,\n",
              "       32.299999, 37.      , 37.700001, 34.099998, 34.700001, 34.400002,\n",
              "       29.9     , 33.      , 33.700001, 32.400002, 32.900002, 31.6     ,\n",
              "       28.1     , 30.700001, 25.4     , 24.200001, 22.4     , 26.6     ,\n",
              "       20.200001, 17.6     , 28.      , 27.      , 34.      , 31.      ,\n",
              "       29.      , 27.      , 24.      , 36.      , 37.      , 31.      ,\n",
              "       38.      , 36.      , 36.      , 36.      , 34.      , 38.      ,\n",
              "       32.      , 38.      , 25.      , 38.      , 26.      , 22.      ,\n",
              "       32.      , 36.      , 27.      , 27.      , 44.      , 32.      ,\n",
              "       28.      , 31.      ])"
            ]
          },
          "metadata": {},
          "execution_count": 41
        }
      ]
    },
    {
      "cell_type": "code",
      "source": [
        "model = Lowess(kernel=Gaussian,tau=0.05)\n",
        "\n",
        "xscaled = scale.fit_transform(x)\n",
        "\n",
        "model.fit(xscaled,y)\n",
        "y_pred = model.predict(xscaled)\n",
        "\n",
        "mse(y_pred, y)"
      ],
      "metadata": {
        "colab": {
          "base_uri": "https://localhost:8080/"
        },
        "id": "_ulJ9Kdknb1F",
        "outputId": "8d7ca5dc-8cbf-4bc2-cada-434027f4a526"
      },
      "execution_count": 48,
      "outputs": [
        {
          "output_type": "execute_result",
          "data": {
            "text/plain": [
              "9.345185161941703"
            ]
          },
          "metadata": {},
          "execution_count": 48
        }
      ]
    },
    {
      "cell_type": "code",
      "source": [],
      "metadata": {
        "id": "0S5lZDXkfcXb"
      },
      "execution_count": null,
      "outputs": []
    }
  ]
}
